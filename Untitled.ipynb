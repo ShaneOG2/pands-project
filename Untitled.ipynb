{
 "cells": [
  {
   "cell_type": "code",
   "execution_count": null,
   "id": "171d4a4c",
   "metadata": {},
   "outputs": [],
   "source": [
    "# Import packages we will be using throughout the analysis. "
   ]
  },
  {
   "cell_type": "code",
   "execution_count": 1,
   "id": "fcbf3d6a",
   "metadata": {},
   "outputs": [],
   "source": [
    "import pandas as pd\n",
    "import numpy as np\n",
    "import os\n",
    "import matplotlib.pyplot as plt \n",
    "import seaborn as sns"
   ]
  },
  {
   "cell_type": "code",
   "execution_count": null,
   "id": "1e20ca57",
   "metadata": {},
   "outputs": [],
   "source": [
    "# List of the collumn names to be added to dataframe"
   ]
  },
  {
   "cell_type": "code",
   "execution_count": 3,
   "id": "bf370812",
   "metadata": {},
   "outputs": [],
   "source": [
    "collumnNames = [\"SepalLengthCm\", \"SepalWidthCm\", \"PetalLengthCm\", \"PetalWidthCm\", \"Species\"] "
   ]
  },
  {
   "cell_type": "code",
   "execution_count": 4,
   "id": "69e5ad07",
   "metadata": {},
   "outputs": [],
   "source": [
    "# Reads in dataset as pandas dataframe and adds the collumn names to top"
   ]
  },
  {
   "cell_type": "code",
   "execution_count": 5,
   "id": "038ec39f",
   "metadata": {},
   "outputs": [],
   "source": [
    "df = pd.read_csv('iris.txt', names = collumnNames)"
   ]
  },
  {
   "cell_type": "code",
   "execution_count": null,
   "id": "3315140a",
   "metadata": {},
   "outputs": [],
   "source": [
    "# Gives us the first 6 rows - in this case our collumn names we added and 5 rows of data. "
   ]
  },
  {
   "cell_type": "code",
   "execution_count": 6,
   "id": "c06e4b06",
   "metadata": {},
   "outputs": [
    {
     "name": "stdout",
     "output_type": "stream",
     "text": [
      "   SepalLengthCm  SepalWidthCm  PetalLengthCm  PetalWidthCm      Species\n",
      "0            5.1           3.5            1.4           0.2  Iris-setosa\n",
      "1            4.9           3.0            1.4           0.2  Iris-setosa\n",
      "2            4.7           3.2            1.3           0.2  Iris-setosa\n",
      "3            4.6           3.1            1.5           0.2  Iris-setosa\n",
      "4            5.0           3.6            1.4           0.2  Iris-setosa\n"
     ]
    }
   ],
   "source": [
    "print(df.head())"
   ]
  },
  {
   "cell_type": "code",
   "execution_count": null,
   "id": "4803056d",
   "metadata": {},
   "outputs": [],
   "source": []
  }
 ],
 "metadata": {
  "kernelspec": {
   "display_name": "Python 3 (ipykernel)",
   "language": "python",
   "name": "python3"
  },
  "language_info": {
   "codemirror_mode": {
    "name": "ipython",
    "version": 3
   },
   "file_extension": ".py",
   "mimetype": "text/x-python",
   "name": "python",
   "nbconvert_exporter": "python",
   "pygments_lexer": "ipython3",
   "version": "3.9.7"
  }
 },
 "nbformat": 4,
 "nbformat_minor": 5
}
