{
 "cells": [
  {
   "cell_type": "markdown",
   "id": "d05234ef",
   "metadata": {},
   "source": [
    "## Introduction\n",
    "\n",
    "The dataset we will be working on is the famous <a href=\"https://en.wikipedia.org/wiki/Iris_flower_data_set\" target=\"_blank\">Irish Dataset</a>. In 1936, an American botanist of the name of <a href=\"https://en.wikipedia.org/wiki/Iris_flower_data_set\" target=\"_blank\">Edgar Anderson</a> collected 50 samples of 3 different species of Iris (type of flower) - total sample of 150. \n",
    "\n",
    "For each Iris, he measured it's Sepal Length (cm), Sepal Width (cm), Petal Length (cm), Petal Width (cm) and it's species (Setosa, Versicolor or Virginica). \n",
    "\n",
    "<img src=\"image/Iris.png\" alt=\"Iris\" style=\"width:800px;\"/>\n",
    "<a href=\"https://en.wikipedia.org/wiki/Iris_flower_data_set\" target=\"_blank\">Source 1</a>\n",
    "<a href=\"https://www.chegg.com/homework-help/questions-and-answers/following-visualization-show-four-data-attributes-sepal-length-sepal-width-petal-length-pe-q48732841\" target=\"_blank\">Source 2</a>\n",
    "\n",
    "The dataset was introduced to the world of statistics by British statisitian and biologist Ronald Fisher. Machine Learning techniques can be used on the dataset to predict the <a href=\"https://www.youtube.com/watch?v=FLuqwQgSBDw&ab_channel=AppliedAICourse\" target=\"_blank\">classification</a> of a given flower in to one of three categories (in this case the species) based on it's features (in this case Sepal Length, Sepal Width, Petal Length, Petal Width)."
   ]
  },
  {
   "cell_type": "markdown",
   "id": "71456e45",
   "metadata": {},
   "source": [
    "## Python Libraries \n",
    "\n",
    "For the analysis we will be using Python and the following packages within it. \n",
    "\n",
    "<a href=\"https://pandas.pydata.org/docs/getting_started/overview.html#:~:text=pandas%20is%20a%20Python%20package,world%20data%20analysis%20in%20Python.\" target=\"_blank\">Pandas</a> - data manipulation and analysis for working with datastructures.\\\n",
    "<a href=\"https://numpy.org/\" target=\"_blank\">Numpy</a> - computational power of working with large multi-dimensional arrays.\\\n",
    "<a href=\"https://matplotlib.org/\" target=\"_blank\">Matplotlib</a> - data visualisations.\\\n",
    "<a href=\"https://seaborn.pydata.org/introduction.html\" target=\"_blank\">Seaborn</a> - data visualisations.\\\n",
    "<a href=\"https://scikit-learn.org/stable/\" target=\"_blank\">scikit-learn\n",
    "</a> - machine learning for predictive data analysis."
   ]
  },
  {
   "cell_type": "code",
   "execution_count": null,
   "id": "e9b54ead",
   "metadata": {},
   "outputs": [],
   "source": [
    "# Import packages we will be using throughout the analysis. \n",
    "\n",
    "import pandas as pd\n",
    "import numpy as np\n",
    "import matplotlib.pyplot as plt \n",
    "import seaborn as sns"
   ]
  },
  {
   "cell_type": "markdown",
   "id": "59cacd5d",
   "metadata": {},
   "source": [
    "## Importing Dataset \n",
    "\n",
    "The was downloaded from the <a href=\"https://archive.ics.uci.edu/ml/datasets/Iris\" target=\"_blank\">UCI Machine Learning Repository</a>. The raw data was saved in a text file ***iris.txt***. \n",
    "\n",
    "5.1,3.5,1.4,0.2,Iris-setosa\\\n",
    "4.9,3.0,1.4,0.2,Iris-setosa\\\n",
    "4.7,3.2,1.3,0.2,Iris-setosa\\\n",
    "4.6,3.1,1.5,0.2,Iris-setosa\\\n",
    "5.0,3.6,1.4,0.2,Iris-setosa\\\n",
    "5.4,3.9,1.7,0.4,Iris-setosa\\\n",
    "4.6,3.4,1.4,0.3,Iris-setosa\\\n",
    "\n",
    "As there was no collumn names given in the raw data our first job was to add them in. "
   ]
  },
  {
   "cell_type": "code",
   "execution_count": 146,
   "id": "07d4c628",
   "metadata": {},
   "outputs": [],
   "source": [
    "# List of the collumn names to be added to dataframe\n",
    "collumnNames = [\"SepalLengthCm\", \"SepalWidthCm\", \"PetalLengthCm\", \"PetalWidthCm\", \"Species\"] "
   ]
  },
  {
   "cell_type": "markdown",
   "id": "89e9aa8a",
   "metadata": {},
   "source": [
    "The data was then read in as a pandas dataframe named ***df*** and collumn names added. "
   ]
  },
  {
   "cell_type": "code",
   "execution_count": 147,
   "id": "112ac11b",
   "metadata": {},
   "outputs": [],
   "source": [
    "# Reads in dataset as pandas dataframe and adds the collumn names to top\n",
    "df = pd.read_csv('iris.txt', names = collumnNames)"
   ]
  },
  {
   "cell_type": "markdown",
   "id": "72180863",
   "metadata": {},
   "source": [
    "<a href=\"https://pandas.pydata.org/docs/reference/api/pandas.read_csv.html\" target=\"_blank\">Reading in CSV</a>"
   ]
  },
  {
   "cell_type": "markdown",
   "id": "9e78721a",
   "metadata": {},
   "source": [
    "## What our data looks like..\n",
    "\n",
    "Now that we have our dataset imported, lets have a look and see how our dataframe looks. "
   ]
  },
  {
   "cell_type": "code",
   "execution_count": 148,
   "id": "bb893dc0",
   "metadata": {},
   "outputs": [
    {
     "name": "stdout",
     "output_type": "stream",
     "text": [
      "   SepalLengthCm  SepalWidthCm  PetalLengthCm  PetalWidthCm      Species\n",
      "0            5.1           3.5            1.4           0.2  Iris-setosa\n",
      "1            4.9           3.0            1.4           0.2  Iris-setosa\n",
      "2            4.7           3.2            1.3           0.2  Iris-setosa\n",
      "3            4.6           3.1            1.5           0.2  Iris-setosa\n",
      "4            5.0           3.6            1.4           0.2  Iris-setosa\n"
     ]
    }
   ],
   "source": [
    "# Gives us the first 6 rows - in this case our collumn names we added and 5 rows of data. \n",
    "print(df.head())"
   ]
  },
  {
   "cell_type": "code",
   "execution_count": 149,
   "id": "361e9589",
   "metadata": {},
   "outputs": [
    {
     "name": "stdout",
     "output_type": "stream",
     "text": [
      "(150, 5)\n"
     ]
    }
   ],
   "source": [
    "# Tells us how many rows (150) and collumns (5) we have. \n",
    "print(df.shape)"
   ]
  },
  {
   "cell_type": "code",
   "execution_count": 150,
   "id": "3b241247",
   "metadata": {},
   "outputs": [
    {
     "name": "stdout",
     "output_type": "stream",
     "text": [
      "SepalLengthCm    float64\n",
      "SepalWidthCm     float64\n",
      "PetalLengthCm    float64\n",
      "PetalWidthCm     float64\n",
      "Species           object\n",
      "dtype: object\n"
     ]
    }
   ],
   "source": [
    "# Data types for each variable\n",
    "print(df.dtypes)"
   ]
  },
  {
   "cell_type": "code",
   "execution_count": 151,
   "id": "6eec7080",
   "metadata": {},
   "outputs": [
    {
     "name": "stdout",
     "output_type": "stream",
     "text": [
      "SepalLengthCm    0\n",
      "SepalWidthCm     0\n",
      "PetalLengthCm    0\n",
      "PetalWidthCm     0\n",
      "Species          0\n",
      "dtype: int64\n"
     ]
    }
   ],
   "source": [
    "# Null values count\n",
    "print(df.isnull().sum())"
   ]
  },
  {
   "cell_type": "code",
   "execution_count": 152,
   "id": "dc3dff49",
   "metadata": {},
   "outputs": [
    {
     "name": "stdout",
     "output_type": "stream",
     "text": [
      "Iris-setosa        50\n",
      "Iris-versicolor    50\n",
      "Iris-virginica     50\n",
      "Name: Species, dtype: int64\n"
     ]
    }
   ],
   "source": [
    "# Our 3 species have 50 counts each \n",
    "numberOfSpecies = df[\"Species\"].value_counts()\n",
    "print(numberOfSpecies)"
   ]
  },
  {
   "cell_type": "markdown",
   "id": "de38bd6f",
   "metadata": {},
   "source": [
    "From the output we can see our dataframe contains 150 rows of data and 5 collumns - Sepal Length, Sepal Width, Petal Length, Petal Width and Species. \n",
    "\n",
    "Sepal Length, Sepal Width, Petal Length and Petal Width are all type floats while Species is type object with 3 value types Setosa, Versicolor and Virginica all containing 50 rows. There are no null values in our dataset. "
   ]
  },
  {
   "cell_type": "markdown",
   "id": "f0eeba42",
   "metadata": {},
   "source": [
    "## Overview of Statistics\n",
    "\n",
    "Next, lets get an overview of our variable statistics for the total sample size of 150:  "
   ]
  },
  {
   "cell_type": "code",
   "execution_count": 153,
   "id": "88acfa3e",
   "metadata": {},
   "outputs": [],
   "source": [
    "# Count, mean, standard deviation, minimum value, 25% quartile, median, 75th quartile \n",
    "# and maximum by each numerical variable rounded to one decimal place. "
   ]
  },
  {
   "cell_type": "code",
   "execution_count": 154,
   "id": "f0662ee3",
   "metadata": {},
   "outputs": [
    {
     "name": "stdout",
     "output_type": "stream",
     "text": [
      "       SepalLengthCm  SepalWidthCm  PetalLengthCm  PetalWidthCm\n",
      "count          150.0         150.0          150.0         150.0\n",
      "mean             5.8           3.1            3.8           1.2\n",
      "std              0.8           0.4            1.8           0.8\n",
      "min              4.3           2.0            1.0           0.1\n",
      "25%              5.1           2.8            1.6           0.3\n",
      "50%              5.8           3.0            4.4           1.3\n",
      "75%              6.4           3.3            5.1           1.8\n",
      "max              7.9           4.4            6.9           2.5\n"
     ]
    }
   ],
   "source": [
    "print(df.describe().round(1))"
   ]
  },
  {
   "cell_type": "markdown",
   "id": "5f83339c",
   "metadata": {},
   "source": [
    "We can then view the same statistics for each of the species type: "
   ]
  },
  {
   "cell_type": "code",
   "execution_count": 155,
   "id": "81b5a160",
   "metadata": {},
   "outputs": [
    {
     "name": "stdout",
     "output_type": "stream",
     "text": [
      "Sepal Length\n",
      "                   mean       std  amin  median  amax\n",
      "Species                                             \n",
      "Iris-setosa      5.006  0.352490   4.3     5.0   5.8\n",
      "Iris-versicolor  5.936  0.516171   4.9     5.9   7.0\n",
      "Iris-virginica   6.588  0.635880   4.9     6.5   7.9 \n",
      "\n",
      "Sepal Width\n",
      "                   mean       std  amin  median  amax\n",
      "Species                                             \n",
      "Iris-setosa      3.418  0.381024   2.3     3.4   4.4\n",
      "Iris-versicolor  2.770  0.313798   2.0     2.8   3.4\n",
      "Iris-virginica   2.974  0.322497   2.2     3.0   3.8 \n",
      "\n",
      "Petal Length\n",
      "                   mean       std  amin  median  amax\n",
      "Species                                             \n",
      "Iris-setosa      1.464  0.173511   1.0    1.50   1.9\n",
      "Iris-versicolor  4.260  0.469911   3.0    4.35   5.1\n",
      "Iris-virginica   5.552  0.551895   4.5    5.55   6.9 \n",
      "\n",
      "Petal Width\n",
      "                   mean       std  amin  median  amax\n",
      "Species                                             \n",
      "Iris-setosa      0.244  0.107210   0.1     0.2   0.6\n",
      "Iris-versicolor  1.326  0.197753   1.0     1.3   1.8\n",
      "Iris-virginica   2.026  0.274650   1.4     2.0   2.5 \n",
      "\n"
     ]
    }
   ],
   "source": [
    "# Calculates the mean, standard deviation, min, median and max by each species of flower for each variable. \n",
    "SepalLengthBySpecies = df.groupby(\"Species\")[\"SepalLengthCm\"].agg([np.mean, np.std, np.min, np.median, np.max])\n",
    "print(\"Sepal Length\\n\", SepalLengthBySpecies, \"\\n\")\n",
    "\n",
    "SepalWidthBySpecies = df.groupby(\"Species\")[\"SepalWidthCm\"].agg([np.mean, np.std, np.min, np.median, np.max])\n",
    "print(\"Sepal Width\\n\", SepalWidthBySpecies, \"\\n\")\n",
    "\n",
    "PetalLengthBySpecies = df.groupby(\"Species\")[\"PetalLengthCm\"].agg([np.mean, np.std, np.min, np.median, np.max])\n",
    "print(\"Petal Length\\n\", PetalLengthBySpecies, \"\\n\")\n",
    "\n",
    "PetalWidthBySpecies = df.groupby(\"Species\")[\"PetalWidthCm\"].agg([np.mean, np.std, np.min, np.median, np.max])\n",
    "print(\"Petal Width\\n\", PetalWidthBySpecies, \"\\n\")"
   ]
  },
  {
   "cell_type": "markdown",
   "id": "8f67f177",
   "metadata": {},
   "source": [
    "<a href=\"https://campus.datacamp.com/courses/data-manipulation-with-pandas/aggregating-dataframes?ex=11\" target=\"_blank\">Aggregating DataFrames</a>\\\n",
    "<a href=\"https://www.youtube.com/watch?v=pTjsr_0YWas&ab_channel=HackersRealm\" target=\"_blank\">Analysis</a>\n"
   ]
  },
  {
   "cell_type": "code",
   "execution_count": null,
   "id": "8b8f44f3",
   "metadata": {},
   "outputs": [],
   "source": [
    "corrMatrix = df.corr()\n",
    "print(corrMatrix)"
   ]
  },
  {
   "cell_type": "markdown",
   "id": "89f87441",
   "metadata": {},
   "source": [
    "<a href=\"https://www.youtube.com/watch?v=pTjsr_0YWas&t=989s&ab_channel=HackersRealm\" target=\"_blank\">Correlation matrix</a>"
   ]
  },
  {
   "cell_type": "markdown",
   "id": "f1ef1cfd",
   "metadata": {},
   "source": [
    "Using <a href=\"https://www.w3schools.com/python/python_file_handling.asp\" target=\"_blank\">Python's File Open</a> we can write our summary statistics to a txt file. (See ***summaryFile()*** function in ***analysis.py***)"
   ]
  },
  {
   "cell_type": "markdown",
   "id": "086c7fd1",
   "metadata": {},
   "source": [
    "## Visualising the Data\n",
    "\n",
    "It will be easier to gather insights into our data by visualising the data. "
   ]
  },
  {
   "cell_type": "code",
   "execution_count": null,
   "id": "892475ac",
   "metadata": {},
   "outputs": [],
   "source": [
    "# Similiar format as that used for displaying histograms but now for boxplots. \n",
    "    \n",
    "sns.set(style=\"darkgrid\") # Sets the style of chart in Seaborn \n",
    "\n",
    "fig, axs = plt.subplots(2, 2, figsize=(12, 12), sharey=\"all\") # Creates placing for 2x2 subplots with size 12x12. sharey sets \n",
    "# the y-axis to the same value for each of the 4 plots. \n",
    "\n",
    "# Plots 4 boxplots of each variable by each species using df as data. \n",
    "# ax positions the plot in one of 4 locations \n",
    "# palette set the colours of each of the species \n",
    "\n",
    "sns.boxplot(data=df, x=\"Species\", y=\"SepalLengthCm\", ax=axs[0, 0], palette=\"Set2\")\n",
    "sns.boxplot(data=df, x=\"Species\", y=\"SepalWidthCm\", ax=axs[0, 1], palette=\"Set2\")\n",
    "sns.boxplot(data=df, x=\"Species\", y=\"PetalLengthCm\", ax=axs[1, 0], palette=\"Set2\")\n",
    "sns.boxplot(data=df, x=\"Species\", y=\"SepalWidthCm\", ax=axs[1, 1], palette=\"Set2\")\n",
    "plt.show()"
   ]
  },
  {
   "cell_type": "markdown",
   "id": "3c0eeefc",
   "metadata": {},
   "source": [
    "<h3 style=\"color:red\">Observation 1</h3>\n",
    "\n",
    "From our calculations and boxplots, we can see Setosa's Petal Lengths are much smaller than Versicolor and Virginica. "
   ]
  },
  {
   "cell_type": "code",
   "execution_count": null,
   "id": "17ef8eaa",
   "metadata": {
    "scrolled": true
   },
   "outputs": [],
   "source": [
    "sns.set(style=\"darkgrid\") # Sets the style of chart in Seaborn\n",
    "\n",
    "fig, axs = plt.subplots(2, 2, figsize=(12, 12)) # Creates placing for 2x2 subplots with size 12x12\n",
    "\n",
    "# Plots 4 histograms of each variable by each species using df as data. \n",
    "# Kde gives us an outline of the distribution species \n",
    "# ax positions the plot in one of 4 locations \n",
    "# hue groups species and shows them as different colours\n",
    "# palette set the colours of each of the species \n",
    "sns.histplot(data=df, x=\"SepalLengthCm\", kde=True, ax=axs[0, 0], hue=\"Species\", palette=\"Set2\")\n",
    "sns.histplot(data=df, x=\"SepalWidthCm\", kde=True, ax=axs[0, 1], hue=\"Species\", palette=\"Set2\")\n",
    "sns.histplot(data=df, x=\"PetalLengthCm\", kde=True, ax=axs[1, 0], hue=\"Species\", palette=\"Set2\")\n",
    "sns.histplot(data=df, x=\"PetalWidthCm\", kde=True, ax=axs[1, 1], hue=\"Species\", palette=\"Set2\")\n",
    "plt.show()"
   ]
  },
  {
   "cell_type": "markdown",
   "id": "e631b045",
   "metadata": {},
   "source": [
    "<a href=\"https://www.youtube.com/watch?v=snkkKrek7TU&ab_channel=DataCamp\" target=\"_blank\">Plotting Histograms</a>\\\n",
    "<a href=\"https://python-graph-gallery.com/25-histogram-with-several-variables-seaborn\" target=\"_blank\">Seaborn code</a>\\\n",
    "<a href=\"https://seaborn.pydata.org/generated/seaborn.histplot.html\" target=\"_blank\">Seaborn Histogram</a>"
   ]
  },
  {
   "cell_type": "markdown",
   "id": "1e8a8784",
   "metadata": {},
   "source": [
    "<h3 style=\"color:red\">Observation 2</h3>\n",
    "\n",
    "From the histograms, we can see again Setosa's Petal Lengths and Petal Widths are smaller and seperable from Versicolor and Virginica with a low variance (e.g. the spread of values). There is some overlap between Versicolor and Virginica. Versicolor generally has smaller Petal Lengths and Petal Widths than Virginica. \n",
    "\n",
    "It is more difficult to identify differences between species for Sepal Length and Widths. Generally, Setosa has the smallest Sepal Lengths with Virginica has the largest and Versicolor inbetween. While Setosa has the largest Sepal Widths followed by Virginica and Versicolor. There is variance overlap across all species for both Sepal Length and Width. \n",
    "\n",
    "From this we can take Petal Length is strongest when classifying the Species type. This is closely followed by Petal Width. Sepal Length is stronger than Petal Width however, not as strong as Petal measurements. "
   ]
  },
  {
   "cell_type": "code",
   "execution_count": null,
   "id": "bffdb751",
   "metadata": {},
   "outputs": [],
   "source": [
    "# Plots each numerical variable against each other, even a variable against its self to show its distribution. \n",
    "# In this case kind=\"scatter\" gives scatterplots. The plot duplicates the pairs of variables plotted against \n",
    "# eachother but switches the axes.\n",
    "# hue groups species and shows them as different colours\n",
    "# markers sets the types of species to different shapes o - circle, s - square, D - diamond. \n",
    "# palette set the colours of each of the species \n",
    "sns.pairplot(df, kind=\"scatter\", hue=\"Species\", markers=[\"o\", \"s\", \"D\"], palette=\"Set2\")\n",
    "plt.show()"
   ]
  },
  {
   "cell_type": "markdown",
   "id": "407ce9a6",
   "metadata": {},
   "source": [
    "<a href=\"https://python-graph-gallery.com/111-custom-correlogram\" target=\"_blank\">Seaborn code</a>\\\n",
    "<a href=\"https://www.youtube.com/watch?v=4yz4cMXCkuw&ab_channel=KimberlyFessel\" target=\"_blank\">Seaborn Scatterplots</a>"
   ]
  },
  {
   "cell_type": "code",
   "execution_count": null,
   "id": "8d43323a",
   "metadata": {
    "scrolled": true
   },
   "outputs": [],
   "source": [
    "# Outputs the scatterplot on individual basis. fit_reg is set to false as I don not want a regression line. \n",
    "sns.set(style=\"darkgrid\")\n",
    "sns.lmplot(data=df, x=\"PetalWidthCm\", y=\"PetalLengthCm\", fit_reg=False, hue=\"Species\", markers=[\"o\", \"s\", \"D\"], palette=\"Set2\")\n",
    "plt.show()"
   ]
  },
  {
   "cell_type": "markdown",
   "id": "90337c83",
   "metadata": {},
   "source": [
    "<h3 style=\"color:red\">Observation 3</h3>\n",
    "\n",
    "From the scatterplots, we can see Petal Length and Petal Width are the most useful variables for distingushing between Species. Setosa can be clearly identified, while Versicolor and Virginica have some overlap. "
   ]
  },
  {
   "cell_type": "markdown",
   "id": "83f619f0",
   "metadata": {},
   "source": [
    "<a href=\"https://www.kaggle.com/code/mrdheer/beginner-s-guide-to-iris-dataset/notebook\" target=\"_blank\">Plotting Boxplots</a>"
   ]
  },
  {
   "cell_type": "code",
   "execution_count": null,
   "id": "efde9e4b",
   "metadata": {
    "scrolled": false
   },
   "outputs": [],
   "source": [
    "# Using corrMatrix seen above (ln7) I want to plot it using a heatmap so it's easier to visualise. \n",
    "# Like the pairplot scatterplot above the plot duplicates the pairs of variables plotted against eachother. \n",
    "# fig, ax = plt.subplots() creates a plot size 7x6\n",
    "# sns.heatmap() fills the plot with values from corrMatrix, annot=True - displays it. \n",
    "# cmap changes colour to red being high correlaton and blue for low correlaton. \n",
    "\n",
    "fig, ax = plt.subplots(figsize=(7, 6))\n",
    "sns.heatmap(corrMatrix, annot = True, ax = ax, cmap=\"coolwarm\")"
   ]
  },
  {
   "cell_type": "markdown",
   "id": "e0d2dcc6",
   "metadata": {},
   "source": [
    "<a href=\"https://www.youtube.com/watch?v=pTjsr_0YWas&t=989s&ab_channel=HackersRealm\" target=\"_blank\">Correlation matrix</a>"
   ]
  },
  {
   "cell_type": "markdown",
   "id": "045dbd72",
   "metadata": {},
   "source": [
    "\"<a href=\"https://www.investopedia.com/terms/c/correlation.asp#:~:text=Correlation%20is%20a%20statistical%20term,to%20have%20a%20positive%20correlation.\" target=\"_blank\">Correlation</a> *is a statistical term describing the degree to which two variables move in coordination with one another. If the two variables move in the same direction, then those variables are said to have a positive correlation. If they move in opposite directions, then they have a negative correlation. Correlation shows the strength of a relationship between two variables and is expressed numerically by the correlation coefficient. The correlation coefficient's values range between -1.0 and 1.0.\"*\n",
    "\n",
    "<h3 style=\"color:red\">Observation 4</h3>\n",
    "\n",
    "From this we can see Petal Length and Petal Width have the highest positive correlation of all pairs of variables (0.96). Petal Length and Sepal Length (0.87) and Petal Width and Sepal Length (0.82) also have high correlation. \n",
    "\n",
    "Petal Length and Sepal Width (-0.42) and Petal Width and Sepal Width (-0.36) both have low negative correlation. "
   ]
  },
  {
   "cell_type": "markdown",
   "id": "bfdcbc87",
   "metadata": {},
   "source": [
    "## Machine Learning\n",
    "\n",
    "\"<a href=\"https://www.youtube.com/watch?v=elojMnjn4kk&list=PL5-da3qGB5ICeMbQuqbbCOQWcS6OYBr5A&index=1&ab_channel=DataSchool\" target=\"_blank\">Machine Learning</a> *is the semi-automated extraction of knowledge from data\".*\n",
    "\n",
    "There are two types of machine learning 1. Supervised learning and 2. Unsupervised learning. Supervised learning is making predictions by using data while unsupervised learning is extracting structure from data i.e. segmenting into cathegories with similiar responses. \n",
    "\n",
    "In the case of the Iris dataset we will be using supervised learning to predict the species of a given flower from the learnings we have from the data we have on Iris' features (in this case Sepal Length, Sepal Width, Petal Length, Petal Width)\n",
    "\n",
    "### Set up for Machine Learning\n",
    "\n",
    "In order us to be able to build machine learning models it is best to convert categorical data (in the case the Species collumn) into numerical data. "
   ]
  },
  {
   "cell_type": "code",
   "execution_count": null,
   "id": "bd6288ef",
   "metadata": {},
   "outputs": [],
   "source": [
    "# Copy df to df2\n",
    "df2 = df"
   ]
  },
  {
   "cell_type": "code",
   "execution_count": null,
   "id": "2e458e83",
   "metadata": {},
   "outputs": [],
   "source": [
    "# Label encoder will label Species for us. \n",
    "from sklearn.preprocessing import LabelEncoder\n",
    "le = LabelEncoder()\n",
    "df2[\"Species\"] = le.fit_transform(df2[\"Species\"])"
   ]
  },
  {
   "cell_type": "code",
   "execution_count": null,
   "id": "b80a2966",
   "metadata": {},
   "outputs": [],
   "source": [
    "df2.head()"
   ]
  },
  {
   "cell_type": "markdown",
   "id": "bf664cfd",
   "metadata": {},
   "source": [
    "The Species collumn has now been relabeled: \n",
    "0 = Setosa\n",
    "1 = Versicolor\n",
    "2 = Virginica\n",
    "\n",
    "Now, we want to seperate our dataframe into our 4 attributes and call it matrix X. "
   ]
  },
  {
   "cell_type": "code",
   "execution_count": null,
   "id": "19452329",
   "metadata": {},
   "outputs": [],
   "source": [
    "# Remove Species collumn from df2 and set it as X\n",
    "X = df2.drop([\"Species\"], axis=1)\n",
    "X.head()"
   ]
  },
  {
   "cell_type": "markdown",
   "id": "262f950c",
   "metadata": {},
   "source": [
    "We also want to split our response data (i.e. Species) into Y. "
   ]
  },
  {
   "cell_type": "code",
   "execution_count": null,
   "id": "191c0645",
   "metadata": {},
   "outputs": [],
   "source": [
    "# Set Y as the Species collumn \n",
    "Y = df2[\"Species\"]\n",
    "Y.head()"
   ]
  },
  {
   "cell_type": "markdown",
   "id": "7930b577",
   "metadata": {},
   "source": [
    "We now want to split the data again into training (70%) and testing data (30%).\n",
    "\n",
    "As mentioned above we will be using supervised learning to predict the species of a given flower from the learnings we have from the data we have on Iris' features. The training data is used to build a model to make these predictions. Then we use the testing data to test the accuracy of our model built by. \n",
    "\n",
    "It's important to note we can not use 100% of our data on training the model and then use this data to test the accuracy. If we did this we would get 100% accuracy which would not be accurate as the model already knows what the responses should be.  "
   ]
  },
  {
   "cell_type": "code",
   "execution_count": null,
   "id": "c14ced5f",
   "metadata": {},
   "outputs": [],
   "source": [
    "from sklearn.model_selection import train_test_split\n",
    "# 70% training data\n",
    "# 30% testing data\n",
    "x_train, x_test, y_train, y_test = train_test_split(X, Y, test_size = 0.3)"
   ]
  },
  {
   "cell_type": "markdown",
   "id": "72129ab9",
   "metadata": {},
   "source": [
    "From the results below we can see x_train and y_train now contains 70% (.7 X 150 = 105) of our data and x_test and y_test contains the remaining 30%. These results are divided randomly. "
   ]
  },
  {
   "cell_type": "code",
   "execution_count": 144,
   "id": "fe926e7b",
   "metadata": {},
   "outputs": [
    {
     "name": "stdout",
     "output_type": "stream",
     "text": [
      "x_train: (105, 4)\n",
      "y_train: (105,)\n",
      "x_test: (45, 4)\n",
      "y_train: (45,)\n"
     ]
    }
   ],
   "source": [
    "print(\"x_train:\", x_train.shape)\n",
    "print(\"y_train:\", y_train.shape)\n",
    "print(\"x_test:\", x_test.shape)\n",
    "print(\"y_train:\", y_test.shape)"
   ]
  },
  {
   "cell_type": "markdown",
   "id": "e6c0dfe6",
   "metadata": {},
   "source": [
    "### Logistic Regression\n",
    "\n",
    "Now that we have prepared our data we are able to build a model. We will firstly use <a href=\"https://www.youtube.com/watch?v=elojMnjn4kk&list=PL5-da3qGB5ICeMbQuqbbCOQWcS6OYBr5A&index=1&ab_channel=DataSchool\" target=\"_blank\">Logistic Regression</a>. Despite it's name this is a linear model for classification rather than regression. "
   ]
  },
  {
   "cell_type": "code",
   "execution_count": null,
   "id": "80d16082",
   "metadata": {},
   "outputs": [],
   "source": [
    "# The Logistic Regression model can be imported from sklearn\n",
    "# We will rename it logreg and apply it to our training data\n",
    "from sklearn.linear_model import LogisticRegression\n",
    "logreg = LogisticRegression()\n",
    "logreg.fit(x_train,y_train)"
   ]
  },
  {
   "cell_type": "markdown",
   "id": "4decae7c",
   "metadata": {},
   "source": [
    "Now that we have our model we can test it on our test data and store our predictions in a list *y_pred1*. "
   ]
  },
  {
   "cell_type": "code",
   "execution_count": null,
   "id": "6589e3a7",
   "metadata": {},
   "outputs": [],
   "source": [
    "y_pred1 = logreg.predict(x_test)"
   ]
  },
  {
   "cell_type": "markdown",
   "id": "c02611ce",
   "metadata": {},
   "source": [
    "We can then calculate the accuracy of the model using the actual results from y_test versus the models predicted values. "
   ]
  },
  {
   "cell_type": "code",
   "execution_count": null,
   "id": "e5d8d1fb",
   "metadata": {},
   "outputs": [],
   "source": [
    "from sklearn import metrics\n",
    "accuracy = (metrics.accuracy_score(y_test, y_pred1) * 100)\n",
    "print(\"Logistic Regression Model Accuracy: \", accuracy, \"%\" , sep=\"\")"
   ]
  },
  {
   "cell_type": "markdown",
   "id": "2a5ac45b",
   "metadata": {},
   "source": [
    "### K-Nearest Neighbours\n",
    "\n",
    "<a href=\"https://scikit-learn.org/stable/modules/neighbors.html\" target=\"_blank\">K-Nearest Neighbours</a> takes in a value k from the user greater than 0 and searches for the k number of observations nearest the unknown Iris. The predicted response for the unknown Iris is based of the most popular Species of the k nearest obeservations.   "
   ]
  },
  {
   "cell_type": "code",
   "execution_count": null,
   "id": "5ad5232b",
   "metadata": {},
   "outputs": [],
   "source": [
    "from sklearn.neighbors import KNeighborsClassifier\n",
    "scores = []\n",
    "k_range = []\n",
    "k_range.extend(range(1,26))\n",
    "for k in k_range:\n",
    "    knn = KNeighborsClassifier(n_neighbors=k)\n",
    "    knn.fit(x_train,y_train)\n",
    "    y_pred2 = knn.predict(x_test)\n",
    "    scores.append(metrics.accuracy_score(y_test, y_pred2))"
   ]
  },
  {
   "cell_type": "code",
   "execution_count": null,
   "id": "aa325685",
   "metadata": {},
   "outputs": [],
   "source": [
    "sns.set(style=\"darkgrid\")\n",
    "plt.plot(k_range, scores)\n",
    "plt.xlabel(\"Value of K for KNN\")\n",
    "plt.ylabel(\"Accurancy Scores\")"
   ]
  },
  {
   "cell_type": "markdown",
   "id": "8dda83db",
   "metadata": {},
   "source": [
    "<a href=\"https://www.youtube.com/watch?v=RlQuVL6-qe8&list=PL5-da3qGB5ICeMbQuqbbCOQWcS6OYBr5A&index=4&ab_channel=DataSchool\" target=\"_blank\">Machine Learning in Python with scikit-learn</a>"
   ]
  },
  {
   "cell_type": "code",
   "execution_count": null,
   "id": "47fb4183",
   "metadata": {
    "scrolled": true
   },
   "outputs": [],
   "source": [
    "# Converts ints in list to strings\n",
    "k_range=[str(x) for x in k_range]"
   ]
  },
  {
   "cell_type": "markdown",
   "id": "ed4bfc81",
   "metadata": {},
   "source": [
    "<a href=\"https://blog.finxter.com/how-to-convert-an-integer-list-to-a-string-list-in-python/\" target=\"_blank\">Convert interger list to string list</a>"
   ]
  },
  {
   "cell_type": "code",
   "execution_count": null,
   "id": "17d170b3",
   "metadata": {},
   "outputs": [],
   "source": [
    "# Creates dictionary with k-values as keys and scores as values\n",
    "zip_iterator = zip(k_range, scores)\n",
    "scoresDict = dict(zip_iterator)"
   ]
  },
  {
   "cell_type": "markdown",
   "id": "9f8dfae2",
   "metadata": {},
   "source": [
    "<a href=\"https://www.adamsmith.haus/python/answers/how-to-create-a-dictionary-from-two-lists-in-python\" target=\"_blank\">Create Dictionary from two lists</a>"
   ]
  },
  {
   "cell_type": "code",
   "execution_count": 120,
   "id": "ee82bd43",
   "metadata": {},
   "outputs": [
    {
     "name": "stdout",
     "output_type": "stream",
     "text": [
      "KNN Model Accuracy where k=8: 100.0%\n"
     ]
    }
   ],
   "source": [
    "# Find max value in dictionary and print which k this refers to.\n",
    "max_k = max(scoresDict, key=scoresDict.get)\n",
    "accuracy=scoresDict[max_k]*100\n",
    "print(\"KNN Model Accuracy where k=\", max_k, \": \", accuracy, \"%\", sep=\"\")"
   ]
  },
  {
   "cell_type": "markdown",
   "id": "08d1c86a",
   "metadata": {},
   "source": [
    "<a href=\"https://stackoverflow.com/questions/268272/getting-key-with-maximum-value-in-dictionary\" target=\"_blank\">Max value in dictionary</a>"
   ]
  },
  {
   "cell_type": "markdown",
   "id": "10333cf2",
   "metadata": {},
   "source": [
    "### Using the model with new data\n",
    "\n",
    "KNN gives us a higher model accuracy. Therefore we will use the k which we got our max accuarcy and make a new model using all 150 rows of data as our training data. "
   ]
  },
  {
   "cell_type": "code",
   "execution_count": null,
   "id": "25066fb3",
   "metadata": {},
   "outputs": [],
   "source": [
    "from sklearn.neighbors import KNeighborsClassifier\n",
    "k=int(max_k)\n",
    "knn = KNeighborsClassifier(n_neighbors=k)\n",
    "knn.fit(X,Y)"
   ]
  },
  {
   "cell_type": "markdown",
   "id": "96692b73",
   "metadata": {},
   "source": [
    "We can then ask the user to input measurements of a given Iris flower that we do not know the species of and predict the species from the data in the Iris dataset. "
   ]
  },
  {
   "cell_type": "code",
   "execution_count": 134,
   "id": "ad930839",
   "metadata": {},
   "outputs": [
    {
     "name": "stdout",
     "output_type": "stream",
     "text": [
      "Please input the measurements of the Iris:\n",
      "Sepal Length in cm: 1\n",
      "Sepal Width in cm: 2\n",
      "Petal Length in cm: 3\n",
      "Petal Width in cm: 4\n"
     ]
    }
   ],
   "source": [
    "print(\"Please input the measurements of the Iris:\")\n",
    "sl = int(input(\"Sepal Length in cm: \"))\n",
    "sw = int(input(\"Sepal Width in cm: \"))\n",
    "pl = int(input(\"Petal Length in cm: \"))\n",
    "pw = int(input(\"Petal Width in cm: \"))\n",
    "X_new = [sl, sw, pl, pw]"
   ]
  },
  {
   "cell_type": "code",
   "execution_count": 142,
   "id": "c488491b",
   "metadata": {},
   "outputs": [],
   "source": [
    "prediction=knn.predict([X_new])"
   ]
  },
  {
   "cell_type": "code",
   "execution_count": 156,
   "id": "7a5157df",
   "metadata": {},
   "outputs": [
    {
     "name": "stdout",
     "output_type": "stream",
     "text": [
      "Based on your inputted measurements, this is a Versicolor.\n"
     ]
    }
   ],
   "source": [
    "# As we converted species into numerical values we have to change back to get the species name. \n",
    "if prediction[0]==0:\n",
    "    print(\"Based on your inputted measurements, this is a Setosa.\")\n",
    "elif prediction[0]==1:\n",
    "    print(\"Based on your inputted measurements, this is a Versicolor.\")\n",
    "else:\n",
    "    print(\"Based on your inputted measurements, this is a Virginica.\")"
   ]
  },
  {
   "cell_type": "code",
   "execution_count": null,
   "id": "026a75c8",
   "metadata": {},
   "outputs": [],
   "source": []
  },
  {
   "cell_type": "code",
   "execution_count": null,
   "id": "96cc9e47",
   "metadata": {},
   "outputs": [],
   "source": []
  }
 ],
 "metadata": {
  "kernelspec": {
   "display_name": "Python 3 (ipykernel)",
   "language": "python",
   "name": "python3"
  },
  "language_info": {
   "codemirror_mode": {
    "name": "ipython",
    "version": 3
   },
   "file_extension": ".py",
   "mimetype": "text/x-python",
   "name": "python",
   "nbconvert_exporter": "python",
   "pygments_lexer": "ipython3",
   "version": "3.9.7"
  }
 },
 "nbformat": 4,
 "nbformat_minor": 5
}
